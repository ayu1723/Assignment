{
  "nbformat": 4,
  "nbformat_minor": 0,
  "metadata": {
    "colab": {
      "provenance": []
    },
    "kernelspec": {
      "name": "python3",
      "display_name": "Python 3"
    },
    "language_info": {
      "name": "python"
    }
  },
  "cells": [
    {
      "cell_type": "markdown",
      "source": [
        "1.the word def is used to create a function."
      ],
      "metadata": {
        "id": "OaIOxerzi4H_"
      }
    },
    {
      "cell_type": "code",
      "source": [
        "#function to return list of odd numbers in the range of 1-25\n",
        "def oddl():\n",
        "  l=list(range(1,25))\n",
        "  l1=[]\n",
        "  for i in l:\n",
        "      if i%2!=0:\n",
        "        l1.append(i)\n",
        "  return l1      "
      ],
      "metadata": {
        "id": "uYC7fvj9jGYi"
      },
      "execution_count": null,
      "outputs": []
    },
    {
      "cell_type": "code",
      "source": [
        "  oddl()"
      ],
      "metadata": {
        "colab": {
          "base_uri": "https://localhost:8080/"
        },
        "id": "H5fdr5ghjtbD",
        "outputId": "b24c04f4-e3ec-42b2-92aa-3015981814ca"
      },
      "execution_count": null,
      "outputs": [
        {
          "output_type": "execute_result",
          "data": {
            "text/plain": [
              "[1, 3, 5, 7, 9, 11, 13, 15, 17, 19, 21, 23]"
            ]
          },
          "metadata": {},
          "execution_count": 10
        }
      ]
    },
    {
      "cell_type": "markdown",
      "source": [
        "2. *args is used for multiple value arguments(non key word) in a function and **kwargs is used for multiple key value arguments in a function"
      ],
      "metadata": {
        "id": "-MRzCOWOnCt8"
      }
    },
    {
      "cell_type": "code",
      "source": [
        "#*args\n",
        "def myfn(*args,a):\n",
        "  for i in args:\n",
        "    print(i,a)\n",
        "myfn('ashish','kasish','ishan',a=17)    "
      ],
      "metadata": {
        "colab": {
          "base_uri": "https://localhost:8080/"
        },
        "id": "d2LODfrKnb4q",
        "outputId": "314709cb-f352-42d6-8e4b-31e75b597292"
      },
      "execution_count": null,
      "outputs": [
        {
          "output_type": "stream",
          "name": "stdout",
          "text": [
            "ashish 17\n",
            "kasish 17\n",
            "ishan 17\n"
          ]
        }
      ]
    },
    {
      "cell_type": "code",
      "source": [
        "def myfn(**kwargs):\n",
        "  for arg in kwargs:\n",
        "    print(arg)\n",
        "\n",
        "myfn(ashish='17', kasish='23', ishan='83', a='7')"
      ],
      "metadata": {
        "id": "5CqoObiN5kNY",
        "colab": {
          "base_uri": "https://localhost:8080/"
        },
        "outputId": "5a8100e9-e86e-4ca2-bae9-5042e98e6614"
      },
      "execution_count": null,
      "outputs": [
        {
          "output_type": "stream",
          "name": "stdout",
          "text": [
            "ashish\n",
            "kasish\n",
            "ishan\n",
            "a\n"
          ]
        }
      ]
    },
    {
      "cell_type": "code",
      "source": [
        "def myfn(**kwargs):\n",
        "  for key,value in kwargs.items():\n",
        "    print(key,'-',value)\n",
        "\n",
        "myfn(ashish='17', kasish='23', ishan='83', a='7')"
      ],
      "metadata": {
        "colab": {
          "base_uri": "https://localhost:8080/"
        },
        "id": "rJEdUSiSZfnU",
        "outputId": "df962741-7c54-4086-885c-6749b65e4506"
      },
      "execution_count": null,
      "outputs": [
        {
          "output_type": "stream",
          "name": "stdout",
          "text": [
            "ashish - 17\n",
            "kasish - 23\n",
            "ishan - 83\n",
            "a - 7\n"
          ]
        }
      ]
    },
    {
      "cell_type": "markdown",
      "source": [
        "3. iterator is an object which can iterate over dictionaries,lists,tuples and strings.\n",
        "method used to initialise the iterator object-Iter()\n",
        "method used for iteration-__iter__() and __next__()"
      ],
      "metadata": {
        "id": "sYlTMl28sxRO"
      }
    },
    {
      "cell_type": "code",
      "source": [
        "#7Q\n",
        "k= [ letter for letter in 'pwskills' ]\n",
        "print(k)"
      ],
      "metadata": {
        "colab": {
          "base_uri": "https://localhost:8080/"
        },
        "id": "0ydfFvLCvPIi",
        "outputId": "005b29e0-a90b-4601-ae58-8db25eca6cd8"
      },
      "execution_count": null,
      "outputs": [
        {
          "output_type": "stream",
          "name": "stdout",
          "text": [
            "['p', 'w', 's', 'k', 'i', 'l', 'l', 's']\n"
          ]
        }
      ]
    },
    {
      "cell_type": "code",
      "source": [],
      "metadata": {
        "colab": {
          "base_uri": "https://localhost:8080/",
          "height": 133
        },
        "id": "UgWBYWIFwHGI",
        "outputId": "4cecc85d-bdaa-45d3-aede-8dd380820d5d"
      },
      "execution_count": null,
      "outputs": [
        {
          "output_type": "error",
          "ename": "SyntaxError",
          "evalue": "ignored",
          "traceback": [
            "\u001b[0;36m  File \u001b[0;32m\"<ipython-input-55-982c739ff749>\"\u001b[0;36m, line \u001b[0;32m1\u001b[0m\n\u001b[0;31m    [print(h_letters) h_letters.append(letter) for letter in 'pwskills' ]\u001b[0m\n\u001b[0m     ^\u001b[0m\n\u001b[0;31mSyntaxError\u001b[0m\u001b[0;31m:\u001b[0m invalid syntax. Perhaps you forgot a comma?\n"
          ]
        }
      ]
    },
    {
      "cell_type": "code",
      "source": [
        "\n",
        "l1=[]\n",
        "[l1.append(i) for i in (range(1,101)) if i%2!=0]\n",
        "print(l1)"
      ],
      "metadata": {
        "colab": {
          "base_uri": "https://localhost:8080/"
        },
        "id": "dKRdCk3g27Ok",
        "outputId": "311574ed-10d9-49b6-bdc7-847ef2ccf5fe"
      },
      "execution_count": null,
      "outputs": [
        {
          "output_type": "stream",
          "name": "stdout",
          "text": [
            "[1, 3, 5, 7, 9, 11, 13, 15, 17, 19, 21, 23, 25, 27, 29, 31, 33, 35, 37, 39, 41, 43, 45, 47, 49, 51, 53, 55, 57, 59, 61, 63, 65, 67, 69, 71, 73, 75, 77, 79, 81, 83, 85, 87, 89, 91, 93, 95, 97, 99]\n"
          ]
        }
      ]
    },
    {
      "cell_type": "code",
      "source": [
        "l2=[]\n",
        "k=[print(i) for i in range(1,101)]\n",
        "l2.append(k)"
      ],
      "metadata": {
        "id": "g5I2SSsUS22n"
      },
      "execution_count": null,
      "outputs": []
    },
    {
      "cell_type": "code",
      "source": [
        "l2=[]\n",
        "k=[print(i) for i in range(1,101)]\n",
        "l2.append(k)\n",
        "\n",
        "l1=[]\n",
        "[l1.append(i) for i in (range(1,101)) if i%2!=0]\n",
        "print(l1)"
      ],
      "metadata": {
        "id": "34QAhgBUT2SI"
      },
      "execution_count": null,
      "outputs": []
    },
    {
      "cell_type": "code",
      "source": [
        "n=int(input(\"limit  of terms\"))\n",
        "a,b=0,1\n",
        "count=0\n",
        "if n<=0:\n",
        "   print(\"enter a positive integer\")\n",
        "elif n==1:\n",
        "   print(\"Fibonacci sequence upto\",n,\":\")\n",
        "   print(a)\n",
        "else:\n",
        "   print(\"Fibonacci sequence:\")\n",
        "   while count<n:\n",
        "       print(a)\n",
        "       c=a+b\n",
        "       a=b\n",
        "       b=c\n",
        "       count += 1"
      ],
      "metadata": {
        "colab": {
          "base_uri": "https://localhost:8080/"
        },
        "id": "Z4WQIu9dUX5f",
        "outputId": "2f33070a-4dac-4147-9771-022d754e2242"
      },
      "execution_count": null,
      "outputs": [
        {
          "output_type": "stream",
          "name": "stdout",
          "text": [
            "limit  of terms9\n",
            "Fibonacci sequence:\n",
            "0\n",
            "1\n",
            "1\n",
            "2\n",
            "3\n",
            "5\n",
            "8\n",
            "13\n",
            "21\n"
          ]
        }
      ]
    },
    {
      "cell_type": "code",
      "source": [
        "#palindrome number or not\n",
        "\n",
        "num=int(input('enter the number'))\n",
        "s=num\n",
        "rev=0\n",
        "while(num>0):\n",
        "  a=num%10\n",
        "  rev=rev*10+a\n",
        "  num=num//10\n",
        "if s==rev:\n",
        "   print('palindrome')\n",
        "else:\n",
        "    print('Not a palindrome')\n",
        "\n"
      ],
      "metadata": {
        "colab": {
          "base_uri": "https://localhost:8080/"
        },
        "id": "e7csEP3fVWC-",
        "outputId": "d9ee649f-e838-4a7c-d8f4-74d0a7e59197"
      },
      "execution_count": null,
      "outputs": [
        {
          "output_type": "stream",
          "name": "stdout",
          "text": [
            "enter the number232\n",
            "palindrome\n"
          ]
        }
      ]
    },
    {
      "cell_type": "code",
      "source": [
        "my_list = [2, 4, 6, 8, 10, 12, 14, 16, 18, 20]\n",
        "my_iterator = iter(my_list)\n",
        "\n",
        "for _ in range(5):\n",
        "    element = next(my_iterator)\n",
        "    print(element)\n",
        "\n"
      ],
      "metadata": {
        "id": "15FzXOXzYVW-",
        "colab": {
          "base_uri": "https://localhost:8080/"
        },
        "outputId": "dbf31596-e5fd-473c-fb1e-48f6f89b2a81"
      },
      "execution_count": 1,
      "outputs": [
        {
          "output_type": "stream",
          "name": "stdout",
          "text": [
            "2\n",
            "4\n",
            "6\n",
            "8\n",
            "10\n"
          ]
        }
      ]
    },
    {
      "cell_type": "code",
      "source": [
        "def generate_primes():\n",
        "    primes = []\n",
        "    num = 2\n",
        "\n",
        "    while True:\n",
        "        if all(num % prime != 0 for prime in primes):\n",
        "            primes.append(num)\n",
        "            yield num\n",
        "        num += 1\n",
        "\n",
        "prime_generator = generate_primes()\n",
        "\n",
        "for _ in range(20):\n",
        "    prime = next(prime_generator)\n",
        "    print(prime)\n"
      ],
      "metadata": {
        "colab": {
          "base_uri": "https://localhost:8080/"
        },
        "id": "n-ar8IXqqLbl",
        "outputId": "908a791e-9158-4974-c3fb-a52483933a5f"
      },
      "execution_count": 2,
      "outputs": [
        {
          "output_type": "stream",
          "name": "stdout",
          "text": [
            "2\n",
            "3\n",
            "5\n",
            "7\n",
            "11\n",
            "13\n",
            "17\n",
            "19\n",
            "23\n",
            "29\n",
            "31\n",
            "37\n",
            "41\n",
            "43\n",
            "47\n",
            "53\n",
            "59\n",
            "61\n",
            "67\n",
            "71\n"
          ]
        }
      ]
    },
    {
      "cell_type": "code",
      "source": [
        "'''The yield keyword is used in a generator function to define the points at which the function should pause and yield a value. It allows the function to remember its state and resume execution from where it left off when the next value is requested. The yield statement not only produces a value but also temporarily suspends the function's execution, preserving its internal state. When the next value is requested, the function resumes execution from the point where it left off and continues until the next yield statement is encountered.'''"
      ],
      "metadata": {
        "colab": {
          "base_uri": "https://localhost:8080/",
          "height": 90
        },
        "id": "jnYoAe6AqrVN",
        "outputId": "754fa60a-3123-43ce-c904-80e76778e2d5"
      },
      "execution_count": 3,
      "outputs": [
        {
          "output_type": "execute_result",
          "data": {
            "text/plain": [
              "\"The yield keyword is used in a generator function to define the points at which the function should pause and yield a value. It allows the function to remember its state and resume execution from where it left off when the next value is requested. The yield statement not only produces a value but also temporarily suspends the function's execution, preserving its internal state. When the next value is requested, the function resumes execution from the point where it left off and continues until the next yield statement is encountered.\""
            ],
            "application/vnd.google.colaboratory.intrinsic+json": {
              "type": "string"
            }
          },
          "metadata": {},
          "execution_count": 3
        }
      ]
    },
    {
      "cell_type": "code",
      "source": [
        "def even_numbers():\n",
        "    num = 0\n",
        "    while True:\n",
        "        yield num\n",
        "        num += 2\n",
        "\n",
        "even_generator = even_numbers()\n",
        "\n",
        "for _ in range(5):\n",
        "    even_num = next(even_generator)\n",
        "    print(even_num)\n"
      ],
      "metadata": {
        "colab": {
          "base_uri": "https://localhost:8080/"
        },
        "id": "d_D0aRjArE5A",
        "outputId": "dd383104-b17f-4509-b51c-c9c9388d8307"
      },
      "execution_count": 4,
      "outputs": [
        {
          "output_type": "stream",
          "name": "stdout",
          "text": [
            "0\n",
            "2\n",
            "4\n",
            "6\n",
            "8\n"
          ]
        }
      ]
    },
    {
      "cell_type": "code",
      "source": [],
      "metadata": {
        "id": "hzidBI4PrI0Q"
      },
      "execution_count": null,
      "outputs": []
    }
  ]
}