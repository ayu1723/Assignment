{
  "nbformat": 4,
  "nbformat_minor": 0,
  "metadata": {
    "colab": {
      "provenance": [],
      "mount_file_id": "1kfzNs4qb-1yP-F4I0pneI_y66LPDojF7",
      "authorship_tag": "ABX9TyNbjrfJ1ZWWUF/ug1aL1+MC",
      "include_colab_link": true
    },
    "kernelspec": {
      "name": "python3",
      "display_name": "Python 3"
    },
    "language_info": {
      "name": "python"
    }
  },
  "cells": [
    {
      "cell_type": "markdown",
      "metadata": {
        "id": "view-in-github",
        "colab_type": "text"
      },
      "source": [
        "<a href=\"https://colab.research.google.com/github/ayu1723/Assignment/blob/main/SJS_Transcript_Call.ipynb\" target=\"_parent\"><img src=\"https://colab.research.google.com/assets/colab-badge.svg\" alt=\"Open In Colab\"/></a>"
      ]
    },
    {
      "cell_type": "code",
      "source": [
        "pip install PyPDF2"
      ],
      "metadata": {
        "colab": {
          "base_uri": "https://localhost:8080/"
        },
        "id": "rAC5vSaTHo4J",
        "outputId": "0c404c5c-0869-434e-80c1-bdb137f26fba"
      },
      "execution_count": null,
      "outputs": [
        {
          "output_type": "stream",
          "name": "stdout",
          "text": [
            "Collecting PyPDF2\n",
            "  Downloading pypdf2-3.0.1-py3-none-any.whl.metadata (6.8 kB)\n",
            "Downloading pypdf2-3.0.1-py3-none-any.whl (232 kB)\n",
            "\u001b[2K   \u001b[90m━━━━━━━━━━━━━━━━━━━━━━━━━━━━━━━━━━━━━━━━\u001b[0m \u001b[32m232.6/232.6 kB\u001b[0m \u001b[31m4.1 MB/s\u001b[0m eta \u001b[36m0:00:00\u001b[0m\n",
            "\u001b[?25hInstalling collected packages: PyPDF2\n",
            "Successfully installed PyPDF2-3.0.1\n"
          ]
        }
      ]
    },
    {
      "cell_type": "code",
      "source": [
        "import PyPDF2\n",
        "from transformers import pipeline\n",
        "\n",
        "def extract_text_from_pdf(pdf_path):\n",
        "    with open(pdf_path, 'rb') as file:\n",
        "        reader = PyPDF2.PdfReader(file)\n",
        "        text = ''\n",
        "        for page in reader.pages:\n",
        "            text += page.extract_text()\n",
        "    return text\n",
        "\n",
        "\n",
        "def preprocess_text(text):\n",
        "\n",
        "    text = ' '.join(text.split())\n",
        "    return text\n",
        "\n",
        "def extract_key_information(text):\n",
        "    qa_pipeline = pipeline(\"question-answering\")\n",
        "\n",
        "    questions = [\n",
        "        \"What are the future growth prospects of the company?\",\n",
        "        \"What are the key changes in the business?\",\n",
        "        \"What are the key triggers for growth?\",\n",
        "        \"What information might have a material effect on next year's earnings and growth?\"\n",
        "    ]\n",
        "\n",
        "    key_information = {}\n",
        "    for question in questions:\n",
        "        result = qa_pipeline(question=question, context=text)\n",
        "        key_information[question] = result['answer']\n",
        "\n",
        "    return key_information\n",
        "\n",
        "def main(pdf_path):\n",
        "    text = extract_text_from_pdf(pdf_path)\n",
        "\n",
        "    text = preprocess_text(text)\n",
        "\n",
        "    key_info = extract_key_information(text)\n",
        "\n",
        "    for question, answer in key_info.items():\n",
        "        print(f\"Question: {question}\")\n",
        "        print(f\"Answer: {answer}\\n\")\n",
        "\n",
        "if __name__ == \"__main__\":\n",
        "    pdf_path = \"/content/drive/MyDrive/SJS Transcript Call.pdf\"\n",
        "\n",
        "    try:\n",
        "        main(pdf_path)\n",
        "    except FileNotFoundError:\n",
        "        print(f\"Error: The file '{pdf_path}' was not found. Please check the file path.\")"
      ],
      "metadata": {
        "colab": {
          "base_uri": "https://localhost:8080/"
        },
        "id": "2TizKiPFMh5i",
        "outputId": "6ee0206e-aeae-4db8-9968-9ff4b6bfb9ee"
      },
      "execution_count": null,
      "outputs": [
        {
          "output_type": "stream",
          "name": "stderr",
          "text": [
            "No model was supplied, defaulted to distilbert/distilbert-base-cased-distilled-squad and revision 564e9b5 (https://huggingface.co/distilbert/distilbert-base-cased-distilled-squad).\n",
            "Using a pipeline without specifying a model name and revision in production is not recommended.\n",
            "Device set to use cpu\n"
          ]
        },
        {
          "output_type": "stream",
          "name": "stdout",
          "text": [
            "Question: What are the future growth prospects of the company?\n",
            "Answer: we hope to grow that business as well\n",
            "\n",
            "Question: What are the key changes in the business?\n",
            "Answer: healthcare , sanitation, sports education, rural development around the community\n",
            "\n",
            "Question: What are the key triggers for growth?\n",
            "Answer: inorganic acquisitions\n",
            "\n",
            "Question: What information might have a material effect on next year's earnings and growth?\n",
            "Answer: com panies\n",
            "\n"
          ]
        }
      ]
    },
    {
      "cell_type": "code",
      "source": [],
      "metadata": {
        "id": "jGMjCqS5Mh9H"
      },
      "execution_count": null,
      "outputs": []
    }
  ]
}